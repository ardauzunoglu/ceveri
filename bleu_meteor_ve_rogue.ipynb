{
 "cells": [
  {
   "cell_type": "markdown",
   "metadata": {},
   "source": [
    "# Veriyi Hazırla"
   ]
  },
  {
   "cell_type": "code",
   "execution_count": 150,
   "metadata": {},
   "outputs": [],
   "source": [
    "import pandas as pd\n",
    "import json \n",
    "import random\n",
    "\n",
    "human_translation = pd.read_excel(\"C:/Users/ardau/Downloads/activitynet.xlsx\")\n",
    "ceveri_translation = pd.read_excel(\"activitynet_ceveri.xlsx\")\n",
    "ceveri_translation.drop([\"Unnamed: 0\"], axis=1, inplace=True)"
   ]
  },
  {
   "cell_type": "code",
   "execution_count": 151,
   "metadata": {},
   "outputs": [
    {
     "data": {
      "text/html": [
       "<div>\n",
       "<style scoped>\n",
       "    .dataframe tbody tr th:only-of-type {\n",
       "        vertical-align: middle;\n",
       "    }\n",
       "\n",
       "    .dataframe tbody tr th {\n",
       "        vertical-align: top;\n",
       "    }\n",
       "\n",
       "    .dataframe thead th {\n",
       "        text-align: right;\n",
       "    }\n",
       "</style>\n",
       "<table border=\"1\" class=\"dataframe\">\n",
       "  <thead>\n",
       "    <tr style=\"text-align: right;\">\n",
       "      <th></th>\n",
       "      <th>id</th>\n",
       "      <th>en</th>\n",
       "      <th>tr</th>\n",
       "    </tr>\n",
       "  </thead>\n",
       "  <tbody>\n",
       "    <tr>\n",
       "      <th>0</th>\n",
       "      <td>v_5Fq-ln3yC38</td>\n",
       "      <td>A man pours a liquid onto a table.,</td>\n",
       "      <td>Bir adam masaya bir sıvı döker.</td>\n",
       "    </tr>\n",
       "    <tr>\n",
       "      <th>1</th>\n",
       "      <td>v_5Fq-ln3yC38</td>\n",
       "      <td>With the use of a paintbrush, he covers the t...</td>\n",
       "      <td>Bir boya fırçası kullanarak o, masayı sıvıyla ...</td>\n",
       "    </tr>\n",
       "    <tr>\n",
       "      <th>2</th>\n",
       "      <td>v_5Fq-ln3yC38</td>\n",
       "      <td>He removes varnish from the top of the table.,</td>\n",
       "      <td>Masanın üstündeki verniği çıkarır.</td>\n",
       "    </tr>\n",
       "    <tr>\n",
       "      <th>3</th>\n",
       "      <td>v_5Fq-ln3yC38</td>\n",
       "      <td>Afterwards, he does a light sanding of the ta...</td>\n",
       "      <td>Sonrasında,  masanın hafif bir zımparasını yapar.</td>\n",
       "    </tr>\n",
       "    <tr>\n",
       "      <th>4</th>\n",
       "      <td>v_5Fq-ln3yC38</td>\n",
       "      <td>With a tack rug, he removes the dust.,</td>\n",
       "      <td>Bir mumlu bezle tozu alır.</td>\n",
       "    </tr>\n",
       "  </tbody>\n",
       "</table>\n",
       "</div>"
      ],
      "text/plain": [
       "              id  ...                                                 tr\n",
       "0  v_5Fq-ln3yC38  ...                    Bir adam masaya bir sıvı döker.\n",
       "1  v_5Fq-ln3yC38  ...  Bir boya fırçası kullanarak o, masayı sıvıyla ...\n",
       "2  v_5Fq-ln3yC38  ...                 Masanın üstündeki verniği çıkarır.\n",
       "3  v_5Fq-ln3yC38  ...  Sonrasında,  masanın hafif bir zımparasını yapar.\n",
       "4  v_5Fq-ln3yC38  ...                         Bir mumlu bezle tozu alır.\n",
       "\n",
       "[5 rows x 3 columns]"
      ]
     },
     "execution_count": 151,
     "metadata": {},
     "output_type": "execute_result"
    }
   ],
   "source": [
    "human_translation.head()"
   ]
  },
  {
   "cell_type": "code",
   "execution_count": 152,
   "metadata": {},
   "outputs": [
    {
     "data": {
      "text/html": [
       "<div>\n",
       "<style scoped>\n",
       "    .dataframe tbody tr th:only-of-type {\n",
       "        vertical-align: middle;\n",
       "    }\n",
       "\n",
       "    .dataframe tbody tr th {\n",
       "        vertical-align: top;\n",
       "    }\n",
       "\n",
       "    .dataframe thead th {\n",
       "        text-align: right;\n",
       "    }\n",
       "</style>\n",
       "<table border=\"1\" class=\"dataframe\">\n",
       "  <thead>\n",
       "    <tr style=\"text-align: right;\">\n",
       "      <th></th>\n",
       "      <th>id</th>\n",
       "      <th>en</th>\n",
       "      <th>tr</th>\n",
       "    </tr>\n",
       "  </thead>\n",
       "  <tbody>\n",
       "    <tr>\n",
       "      <th>0</th>\n",
       "      <td>v_5Fq-ln3yC38</td>\n",
       "      <td>A man pours a liquid onto a table.,</td>\n",
       "      <td>Bir adam masaya bir sıvı döküyor.,</td>\n",
       "    </tr>\n",
       "    <tr>\n",
       "      <th>1</th>\n",
       "      <td>v_5Fq-ln3yC38</td>\n",
       "      <td>With the use of a paintbrush, he covers the t...</td>\n",
       "      <td>Bir boya fırçası kullanarak masayı sıvıyla kap...</td>\n",
       "    </tr>\n",
       "    <tr>\n",
       "      <th>2</th>\n",
       "      <td>v_5Fq-ln3yC38</td>\n",
       "      <td>He removes varnish from the top of the table.,</td>\n",
       "      <td>Masanın üstündeki verniği çıkarır.,</td>\n",
       "    </tr>\n",
       "    <tr>\n",
       "      <th>3</th>\n",
       "      <td>v_5Fq-ln3yC38</td>\n",
       "      <td>Afterwards, he does a light sanding of the ta...</td>\n",
       "      <td>Daha sonra masanın hafif bir zımparasını yapar.,</td>\n",
       "    </tr>\n",
       "    <tr>\n",
       "      <th>4</th>\n",
       "      <td>v_5Fq-ln3yC38</td>\n",
       "      <td>With a tack rug, he removes the dust.,</td>\n",
       "      <td>Bir yapışkan kilim ile tozu alır.,</td>\n",
       "    </tr>\n",
       "  </tbody>\n",
       "</table>\n",
       "</div>"
      ],
      "text/plain": [
       "              id  ...                                                 tr\n",
       "0  v_5Fq-ln3yC38  ...                 Bir adam masaya bir sıvı döküyor.,\n",
       "1  v_5Fq-ln3yC38  ...  Bir boya fırçası kullanarak masayı sıvıyla kap...\n",
       "2  v_5Fq-ln3yC38  ...                Masanın üstündeki verniği çıkarır.,\n",
       "3  v_5Fq-ln3yC38  ...   Daha sonra masanın hafif bir zımparasını yapar.,\n",
       "4  v_5Fq-ln3yC38  ...                 Bir yapışkan kilim ile tozu alır.,\n",
       "\n",
       "[5 rows x 3 columns]"
      ]
     },
     "execution_count": 152,
     "metadata": {},
     "output_type": "execute_result"
    }
   ],
   "source": [
    "ceveri_translation.head()"
   ]
  },
  {
   "cell_type": "code",
   "execution_count": 153,
   "metadata": {},
   "outputs": [],
   "source": [
    "def remove_punc(text):\n",
    "    import string\n",
    "    return text.translate(str.maketrans('', '', string.punctuation))"
   ]
  },
  {
   "cell_type": "code",
   "execution_count": 154,
   "metadata": {},
   "outputs": [],
   "source": [
    "from nltk.translate.bleu_score import sentence_bleu"
   ]
  },
  {
   "cell_type": "code",
   "execution_count": 155,
   "metadata": {},
   "outputs": [],
   "source": [
    "references = [remove_punc(translation.lower()).split() for translation in human_translation.tr.tolist()]\n",
    "candidates = [remove_punc(translation.lower()).split() for translation in ceveri_translation.tr.tolist()]"
   ]
  },
  {
   "cell_type": "code",
   "execution_count": 156,
   "metadata": {},
   "outputs": [
    {
     "name": "stdout",
     "output_type": "stream",
     "text": [
      "[['bir', 'adam', 'masaya', 'bir', 'sıvı', 'döker'], ['bir', 'boya', 'fırçası', 'kullanarak', 'o', 'masayı', 'sıvıyla', 'kaplar'], ['masanın', 'üstündeki', 'verniği', 'çıkarır'], ['sonrasında', 'masanın', 'hafif', 'bir', 'zımparasını', 'yapar'], ['bir', 'mumlu', 'bezle', 'tozu', 'alır'], ['eldivenleri', 'giyerek', 'masaya', 'boya', 'uygular', 'eldiven', 'giyerek', 'masayı', 'boyar'], ['sonunda', 'masayı', 'cilalar', 've', 'sonucunu', 'gösterir'], ['mavi', 'şortlu', 'bir', 'kadın', 'bir', 'adama', 'dart', 'uzatır'], ['beyaz', 'şapkalı', 'bir', 'adam', 'tahtaya', 'dart', 'atar'], ['kadın', 'tahtaya', 'doğru', 'yürür']]\n",
      "[['bir', 'adam', 'masaya', 'bir', 'sıvı', 'döküyor'], ['bir', 'boya', 'fırçası', 'kullanarak', 'masayı', 'sıvıyla', 'kaplar'], ['masanın', 'üstündeki', 'verniği', 'çıkarır'], ['daha', 'sonra', 'masanın', 'hafif', 'bir', 'zımparasını', 'yapar'], ['bir', 'yapışkan', 'kilim', 'ile', 'tozu', 'alır'], ['eldiven', 'giyerek', 'masaya', 'leke', 'sürüyor'], ['sonunda', 'masayı', 'parlatır', 've', 'nihai', 'sonucunu', 'gösterir'], ['mavi', 'şortlu', 'bir', 'kadın', 'bir', 'erkeğe', 'dart', 'uzatıyor'], ['beyaz', 'şapkalı', 'bir', 'adam', 'tahtaya', 'dart', 'atıyor'], ['kadın', 'tahtaya', 'doğru', 'yürür']]\n"
     ]
    }
   ],
   "source": [
    "print(references[:10])\n",
    "print(candidates[:10])"
   ]
  },
  {
   "cell_type": "markdown",
   "metadata": {},
   "source": [
    "# BLEU Skorunu Ölç"
   ]
  },
  {
   "cell_type": "code",
   "execution_count": 157,
   "metadata": {},
   "outputs": [],
   "source": [
    "from nltk.translate.bleu_score import SmoothingFunction\n",
    "chencherry = SmoothingFunction()"
   ]
  },
  {
   "cell_type": "code",
   "execution_count": 158,
   "metadata": {},
   "outputs": [
    {
     "name": "stderr",
     "output_type": "stream",
     "text": [
      "c:\\Users\\ardau\\AppData\\Local\\Programs\\Python\\Python310\\lib\\site-packages\\nltk\\translate\\bleu_score.py:552: UserWarning: \n",
      "The hypothesis contains 0 counts of 3-gram overlaps.\n",
      "Therefore the BLEU score evaluates to 0, independently of\n",
      "how many N-gram overlaps of lower order it contains.\n",
      "Consider using lower n-gram order or use SmoothingFunction()\n",
      "  warnings.warn(_msg)\n",
      "c:\\Users\\ardau\\AppData\\Local\\Programs\\Python\\Python310\\lib\\site-packages\\nltk\\translate\\bleu_score.py:552: UserWarning: \n",
      "The hypothesis contains 0 counts of 4-gram overlaps.\n",
      "Therefore the BLEU score evaluates to 0, independently of\n",
      "how many N-gram overlaps of lower order it contains.\n",
      "Consider using lower n-gram order or use SmoothingFunction()\n",
      "  warnings.warn(_msg)\n",
      "c:\\Users\\ardau\\AppData\\Local\\Programs\\Python\\Python310\\lib\\site-packages\\nltk\\translate\\bleu_score.py:552: UserWarning: \n",
      "The hypothesis contains 0 counts of 2-gram overlaps.\n",
      "Therefore the BLEU score evaluates to 0, independently of\n",
      "how many N-gram overlaps of lower order it contains.\n",
      "Consider using lower n-gram order or use SmoothingFunction()\n",
      "  warnings.warn(_msg)\n"
     ]
    }
   ],
   "source": [
    "total_bleu = 0\n",
    "i = 0\n",
    "for reference in references:\n",
    "    total_bleu += sentence_bleu([reference], candidates[references.index(reference)])\n",
    "    i += 1"
   ]
  },
  {
   "cell_type": "code",
   "execution_count": 159,
   "metadata": {},
   "outputs": [
    {
     "name": "stdout",
     "output_type": "stream",
     "text": [
      "0.7867343230346712\n",
      "140\n"
     ]
    }
   ],
   "source": [
    "print(total_bleu/i)\n",
    "print(i)"
   ]
  },
  {
   "cell_type": "markdown",
   "metadata": {},
   "source": [
    "# METEOR Skorunu Ölç"
   ]
  },
  {
   "cell_type": "code",
   "execution_count": 160,
   "metadata": {},
   "outputs": [],
   "source": [
    "from nltk.translate.meteor_score import meteor_score"
   ]
  },
  {
   "cell_type": "code",
   "execution_count": 161,
   "metadata": {},
   "outputs": [],
   "source": [
    "total_bleu = 0\n",
    "i = 0\n",
    "for reference in references:\n",
    "    total_bleu += meteor_score([reference], candidates[references.index(reference)])\n",
    "    i += 1"
   ]
  },
  {
   "cell_type": "code",
   "execution_count": 162,
   "metadata": {},
   "outputs": [
    {
     "name": "stdout",
     "output_type": "stream",
     "text": [
      "0.8689010254901334\n",
      "183\n"
     ]
    }
   ],
   "source": [
    "print(total_bleu/i)\n",
    "print(i)"
   ]
  },
  {
   "cell_type": "markdown",
   "metadata": {},
   "source": [
    "# ROGUE"
   ]
  },
  {
   "cell_type": "code",
   "execution_count": 163,
   "metadata": {},
   "outputs": [],
   "source": [
    "from rouge import Rouge"
   ]
  },
  {
   "cell_type": "code",
   "execution_count": 164,
   "metadata": {},
   "outputs": [],
   "source": [
    "rouge = Rouge()"
   ]
  },
  {
   "cell_type": "code",
   "execution_count": 165,
   "metadata": {},
   "outputs": [],
   "source": [
    "rogue = 0\n",
    "i = 0\n",
    "for reference in references:\n",
    "    rogue += max(rouge.get_scores(\" \".join(reference), \" \".join(candidates[references.index(reference)]))[0]['rouge-1'].values())\n",
    "    i += 1"
   ]
  },
  {
   "cell_type": "code",
   "execution_count": 166,
   "metadata": {},
   "outputs": [
    {
     "name": "stdout",
     "output_type": "stream",
     "text": [
      "0.9126691118446182\n"
     ]
    }
   ],
   "source": [
    "print(rogue/i)"
   ]
  }
 ],
 "metadata": {
  "kernelspec": {
   "display_name": "Python 3.10.6 64-bit",
   "language": "python",
   "name": "python3"
  },
  "language_info": {
   "codemirror_mode": {
    "name": "ipython",
    "version": 3
   },
   "file_extension": ".py",
   "mimetype": "text/x-python",
   "name": "python",
   "nbconvert_exporter": "python",
   "pygments_lexer": "ipython3",
   "version": "3.10.6"
  },
  "orig_nbformat": 4,
  "vscode": {
   "interpreter": {
    "hash": "bc3123e1c4f2b91bbcf2adfb6cf7bb4bc974419678a16935f3f060d2e2dca6f3"
   }
  }
 },
 "nbformat": 4,
 "nbformat_minor": 2
}
